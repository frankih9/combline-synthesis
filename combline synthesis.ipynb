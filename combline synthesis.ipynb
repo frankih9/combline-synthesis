{
 "cells": [
  {
   "cell_type": "code",
   "execution_count": 47,
   "metadata": {
    "collapsed": false,
    "deletable": true,
    "editable": true
   },
   "outputs": [],
   "source": [
    "import numpy as np\n",
    "import numpy.polynomial.polynomial as np_pp\n",
    "#np.seterr(divide='ignore', invalid='ignore')\n",
    "from IPython.display import display, Markdown, Latex\n",
    "import scipy.special as ss\n",
    "import sympy as sp\n",
    "import matplotlib.pyplot as plt\n",
    "import pandas as pd"
   ]
  },
  {
   "cell_type": "markdown",
   "metadata": {
    "deletable": true,
    "editable": true
   },
   "source": [
    "### Synthesis of Combline ~~and Capacitively Loaded Interdigital~~ Bandpass Filters of Arbitrary Bandwidth\n",
    "\n",
    "https://ieeexplore.ieee.org/abstract/document/1127609\n",
    "  \n",
    "#### IV. Combline Filter Synthesis Example \n",
    "\n",
    "1) passband: ${f}_{1}=1.20\\;GHz$, ${f}_{2}=1.80\\;GHz$, $0.1\\;dB$ ripple $({\\epsilon}=0.1526)$;  \n",
    "2) attenuation: ${A}_{H}=30\\;dB$ for ${f}_{H}\\ge 2.4\\;GHz$; ${A}_{L}=20\\;dB$ for ${f}_{L}\\le 0.5\\;GHz$;  \n",
    "3) no spurious responses through the fourth harmonic; let ${f}_{S}=7.418\\;GHz$.  "
   ]
  },
  {
   "cell_type": "code",
   "execution_count": 48,
   "metadata": {
    "collapsed": true,
    "deletable": true,
    "editable": true
   },
   "outputs": [],
   "source": [
    "#IV. Combline Filter Synthesis Example                                               \n",
    "#1)\n",
    "f1 = 1.2e9\n",
    "f2 = 1.8e9\n",
    "ripple = 0.1 #dB\n",
    "#2)\n",
    "AH = 30     #High side attenuation in dB\n",
    "fH = 2.4e9  #High side attenuation frequency   \n",
    "AL = 20     #Los side attenuation in dB\n",
    "fL = 0.5e9  #Low side attenuation frequency\n",
    "#3)\n",
    "fS = 7.418e9 #Quarterwave frequency or stop band frequency\n",
    "#In the paper, fS = 7.148GHz is incorrect"
   ]
  },
  {
   "cell_type": "code",
   "execution_count": 49,
   "metadata": {
    "collapsed": false,
    "deletable": true,
    "editable": true
   },
   "outputs": [],
   "source": [
    "def Comb_Req_Order(f1, f2, ripple, AL, fL, AH, fH, fS):\n",
    "    \"\"\"\n",
    "    This function takes in various filter specifications and returns the needed\n",
    "    order, and other parameters\n",
    "    \n",
    "    f1: lower passband edge frequency\n",
    "    f2: upper passband edge frequency\n",
    "    ripple: inband ripple in dB\n",
    "    AL: lowside rejection requirement\n",
    "    fL: lowside rejection frequency\n",
    "    AH: highside rejection requirement\n",
    "    fH: highide rejection frequency\n",
    "    fS: frequency to hold the highside rejection\n",
    "    \n",
    "    Table I of...\n",
    "    \"Synthesis of Combline and Capacitively Loaded Inter... of Arbitrary Bandwidth\"         \n",
    "    \"\"\"\n",
    "    e = np.sqrt(10**(ripple/10.0)-1)\n",
    "    fo = (fH+fS)/2.0\n",
    "    omega1 = np.tan(np.pi*f1/(2*fo))\n",
    "    omega2 = np.tan(np.pi*f2/(2*fo))\n",
    "    omegaL = np.tan(np.pi*fL/(2*fo))\n",
    "    omegaH = np.tan(np.pi*fH/(2*fo))\n",
    "\n",
    "    ZL = np.sqrt((omega2**2-omegaL**2)/(omega1**2-omegaL**2))\n",
    "    ZH = np.sqrt((omegaH**2-omega2**2)/(omegaH**2-omega1**2))\n",
    "\n",
    "    NL = 0.5*(1+(AL/10.0-np.log10(abs((ZL+omega2/omega1)/(ZL-omega2/omega1))) \\\n",
    "                 +np.log10(4.0/pow(e,2)))/np.log10(abs((ZL+1)/(ZL-1))))\n",
    "    NH = 0.5*(1+(AH/10.0-np.log10(abs((ZH+omega2/omega1)/(ZH-omega2/omega1))) \\\n",
    "                 +np.log10(4.0/pow(e,2)))/np.log10(abs((ZH+1)/(ZH-1))))\n",
    "\n",
    "    N_Order = int(np.ceil(max(NL,NH)))\n",
    "    \n",
    "    return N_Order, omega1, omega2, e, fo"
   ]
  },
  {
   "cell_type": "code",
   "execution_count": 50,
   "metadata": {
    "collapsed": true,
    "deletable": true,
    "editable": true
   },
   "outputs": [],
   "source": [
    "#Equations for combline filters from Table I.\n",
    "N_Order, omega1, omega2, e, fo = Comb_Req_Order(f1, f2, ripple, AL, fL, AH, fH, fS)\n",
    "\n",
    "# print('N:      ', N_Order)\n",
    "# print('Omega1: ', omega1)\n",
    "# print('Omega2: ', omega2)\n",
    "# print('e:      ', e)\n",
    "# print('fo:     ', fo)"
   ]
  },
  {
   "cell_type": "markdown",
   "metadata": {
    "deletable": true,
    "editable": true
   },
   "source": [
    "$Z_{i} = 1$, for poles at ${\\infty}$.  $\\;\\;\\;\\;\\;\\;\\;$ See equations(3)-(4)   \n",
    "$Z_{i} = \\displaystyle\\frac{\\Omega_2}{\\Omega_1}$, for poles at DC.  $\\;\\;\\;$See equations(3)-(4)    \n",
    "  \n",
    "Form the following polynomial for a combline filter:  \n",
    "$\\mathbf{E}+Z\\mathbf{F} = \\displaystyle\\prod_{i = 0}^{2N-1}(Z+Z_i) = (Z+1)^{2N-1}\\left[Z+\\frac{\\Omega_2}{\\Omega_1}\\right]$ $\\;\\;\\;\\;$See equation(5)  \n",
    "  \n",
    "$^*$All indices are starting from zero to match with python's convention  "
   ]
  },
  {
   "cell_type": "code",
   "execution_count": 51,
   "metadata": {
    "collapsed": false,
    "deletable": true,
    "editable": true
   },
   "outputs": [],
   "source": [
    "def Comb_EpZF(N_Order, omega1, omega2):\n",
    "    #EQN(5): Form the polynomial E+ZF\n",
    "    lp_poly = np.array([1, 1])\n",
    "    EpZF = np.array([1, omega2/omega1]) #EpZF will always have only 1 high pass pole \n",
    "    for i in range(2*N_Order-1):\n",
    "        EpZF = np.polymul(EpZF, lp_poly)\n",
    "    \n",
    "    return EpZF"
   ]
  },
  {
   "cell_type": "code",
   "execution_count": 52,
   "metadata": {
    "collapsed": true,
    "deletable": true,
    "editable": true
   },
   "outputs": [],
   "source": [
    "#EQN(5): Form the polynomial E+ZF   \n",
    "EpZF = Comb_EpZF(N_Order, omega1, omega2)\n",
    "#print('E + ZF: \\n',EpZF)"
   ]
  },
  {
   "cell_type": "markdown",
   "metadata": {
    "deletable": true,
    "editable": true
   },
   "source": [
    "Extract $\\mathbf{E}$ from $\\mathbf{E}+Z\\mathbf{F}$. $\\mathbf{E}$ is just the even order parts of $\\mathbf{E}+Z\\mathbf{F}$.   \n",
    "\n",
    "Form the following polynomial:\n",
    "\n",
    "$\\mathbf{E} + \\displaystyle\\frac{Z\\mathbf{F}}{\\sqrt{1+{\\epsilon}^{2}}}$ $\\;\\;\\;\\;$See equation(6)"
   ]
  },
  {
   "cell_type": "code",
   "execution_count": 53,
   "metadata": {
    "collapsed": false,
    "deletable": true,
    "editable": true
   },
   "outputs": [],
   "source": [
    "def EpZF_rf(EpZF, e):    \n",
    "    #EQN(6): Extract polynomial E and form the polynomial E+ZF/sqr(1+e^2)\n",
    "    #Indicies in the multiplication in EQN(6) are shifted to 0 -> N_order-1\n",
    "    E = np.copy(EpZF)\n",
    "    EpZF_rf = np.copy(EpZF)\n",
    "    # for i in range(1, 2*N_Order, 2):\n",
    "    #     E[i] = 0\n",
    "    #     EpZF_rf[i] = EpZF_rf[i]/np.sqrt(1+e**2)\n",
    "    E[1::2] =0\n",
    "    EpZF_rf[1::2] = EpZF_rf[1::2]/np.sqrt(1+e**2)\n",
    "    \n",
    "    return E, EpZF_rf"
   ]
  },
  {
   "cell_type": "code",
   "execution_count": 54,
   "metadata": {
    "collapsed": true,
    "deletable": true,
    "editable": true
   },
   "outputs": [],
   "source": [
    "#EQN(6): Extract polynomial E and form the polynomial E+ZF/sqr(1+e^2)\n",
    "E, EpZF_rf = EpZF_rf(EpZF, e)  "
   ]
  },
  {
   "cell_type": "markdown",
   "metadata": {
    "deletable": true,
    "editable": true
   },
   "source": [
    "Find the roots of $\\mathbf{E} + \\displaystyle\\frac{Z\\mathbf{F}}{\\sqrt{1+{\\epsilon}^{2}}} = 0$.  \n",
    "  \n",
    "Form the product of second order polynomials from the roots.  \n",
    "  \n",
    "$\\mathbf{E} + \\displaystyle\\frac{Z\\mathbf{F}}{\\sqrt{1+\\epsilon^2}} = \\displaystyle\\prod_{i = 0}^{N-1}(Z^2+m_iZ+n_i)$ $\\;\\;\\;\\;$See equation(6)  \n",
    "  \n",
    "$^*$All indices are starting from zero to match with python's convention  "
   ]
  },
  {
   "cell_type": "code",
   "execution_count": 55,
   "metadata": {
    "collapsed": true,
    "deletable": true,
    "editable": true
   },
   "outputs": [],
   "source": [
    "def EpZF_rf_Poly2(EpZF_rf):\n",
    "    #EQN(6): Find the factored quadratics\n",
    "    #Indicies in the multiplication in EQN(6) are shifted to 0 -> N_order-1\n",
    "    EpZF_rf_fact = [] #list to store the factored quadratics\n",
    "    EpZF_rf_roots = np.roots(EpZF_rf) #The roots should come in complex conjugate pairs\n",
    "    \n",
    "    N_Order = len(EpZF_rf)//2\n",
    "    \n",
    "    for i in range(N_Order):\n",
    "        #assume the resulting roots are listed in ordered pairs of conjugate roots\n",
    "        EpZF_rf_fact.append(np.real(np.polymul([1, -1*EpZF_rf_roots[2*i]], \\\n",
    "                                               [1, -1*EpZF_rf_roots[2*i+1]])))\n",
    "        \n",
    "    return EpZF_rf_fact"
   ]
  },
  {
   "cell_type": "code",
   "execution_count": 56,
   "metadata": {
    "collapsed": true,
    "deletable": true,
    "editable": true
   },
   "outputs": [],
   "source": [
    "#EQN(6): Find the factored quadratics\n",
    "EpZF_rf_fact = EpZF_rf_Poly2(EpZF_rf)"
   ]
  },
  {
   "cell_type": "markdown",
   "metadata": {
    "collapsed": true,
    "deletable": true,
    "editable": true
   },
   "source": [
    "After obtaining the values of $m_i$ and $n_i$, find $p_i$, $q_i$, and $r_i$. See equation(7)\n",
    "\n",
    "$M_i=2n_i-m_i^2$  \n",
    "  \n",
    "$N_i=n_i^2$  \n",
    "  \n",
    "$R_i=\\sqrt{1+M_i+N_i}$  \n",
    "  \n",
    "$T_i=\\sqrt{\\Omega_2^4+\\Omega_1^2\\Omega_2^2M_i+\\Omega_1^4N_i}$         \n",
    "$\\;$  \n",
    "$\\;$  \n",
    "$p_i=\\displaystyle\\frac{\\Omega_2^2+\\Omega_1^2(1+M_i)}{T_i+\\Omega_1^2R_i}$  \n",
    "  \n",
    "$r_i=\\displaystyle\\frac{M_i\\Omega_2^2+(\\Omega_1^2+\\Omega_2^2)N_i}{T_i+\\Omega_2^2R_i}$  \n",
    "  \n",
    "$q_i=\\displaystyle\\sqrt{\\frac{r_i(r_i-M_ip_i)+N_ip_i^2}{T_iR_i}}$"
   ]
  },
  {
   "cell_type": "code",
   "execution_count": 57,
   "metadata": {
    "collapsed": false,
    "deletable": true,
    "editable": true
   },
   "outputs": [],
   "source": [
    "def p_q_r_Array(EpZF_rf_fact, omega1, omega2):                       \n",
    "    #EQN(7): Generate coefficients p, q, r(lower case gamma from paper)\n",
    "    #Indicies in the multiplication are shifted to 0-N_order-1\n",
    "    M = np.array([])\n",
    "    N = np.array([])\n",
    "    R = np.array([])\n",
    "    T = np.array([])\n",
    "    p = np.array([])\n",
    "    q = np.array([])\n",
    "    r = np.array([])\n",
    "    \n",
    "    N_Order = len(EpZF_rf_fact)\n",
    "    \n",
    "    for i in range(N_Order):\n",
    "        M = np.append(M, 2*EpZF_rf_fact[i][2] - EpZF_rf_fact[i][1]**2)\n",
    "        N = np.append(N, EpZF_rf_fact[i][2]**2)\n",
    "        R = np.append(R, np.sqrt(1 + M[i]+N[i]))\n",
    "        T = np.append(T, np.sqrt(omega2**4 + (omega1**2)*(omega2**2)*M[i] \\\n",
    "                                 + (omega1**4)*N[i]))\n",
    "        p = np.append(p, (omega2**2 + (omega1**2)*(1+M[i])) \\\n",
    "                      /(T[i] + (omega1**2)*R[i]))\n",
    "        r = np.append(r, (M[i]*(omega2**2) + (omega1**2 + omega2**2)*N[i]) \\\n",
    "                      /(T[i] + (omega2**2)*R[i]))    \n",
    "        q = np.append(q, np.sqrt((r[i]*(r[i]-M[i]*p[i]) + N[i]*(p[i]**2))/(T[i]*R[i])))\n",
    "    \n",
    "    return p, q, r"
   ]
  },
  {
   "cell_type": "code",
   "execution_count": 58,
   "metadata": {
    "collapsed": true,
    "deletable": true,
    "editable": true
   },
   "outputs": [],
   "source": [
    "#EQN(7): Generate coefficients p, q, r(lower case gamma from paper)\n",
    "p, q, r = p_q_r_Array(EpZF_rf_fact, omega1, omega2)   "
   ]
  },
  {
   "cell_type": "markdown",
   "metadata": {
    "deletable": true,
    "editable": true
   },
   "source": [
    "Find the polynomials $\\mathbf{A}$ and $\\mathbf{B}$.  \n",
    "\n",
    "$\\mathbf{A}+\\mathbf{B}\\sqrt{(Z^2-1)(\\Omega_2^2-\\Omega_1^2Z^2)} = \\sqrt{1+\\epsilon^2}\\displaystyle\\prod_{{i=0}}^{N-1}\\left(p_iZ^2+q_i\\sqrt{(Z^2-1)(\\Omega_2^2-\\Omega_1^2Z^2)}+r_i\\right)$ $\\;\\;\\;\\;$See equation(8) \n",
    "  \n",
    "Due to the $\\sqrt{(Z^2-1)(\\Omega_2^2-\\Omega_1^2Z^2)}$ factor, the procedure for finding polynomials $\\mathbf{A}$ and $\\mathbf{B}$ is not straight forward.  \n",
    "$\\;$  \n",
    "$\\;$  \n",
    "The method implemented here for evaluating $\\mathbf{A}$ and $\\mathbf{B}$ is the following:  \n",
    "1. Using the function __prm()__, the permutations of the products of $p_i+q_i+r_i$ are formed.  \n",
    "For example, if $N=3$, the output of __prm(3)__ would be ['$p_2 p_1 p_0$', '$q_2 p_1 p_0$', ...]  \n",
    "2. Using __Sorted_Combo()__, each item from the output of __prm()__ is placed in a dictionary of lists where the keys correspond to the number of $q$'s in the item.  \n",
    "For example, {0: ['$p_1 p_1 p_0$', ...], 1: ['$q_2 p_1 p_0$', ...], 2: ['$q_2 q_1 p_0$', ...], 3: ['$q_2 q_1 q_0$']}\n",
    "3. Using __ApBsqrt_fact()__, $\\mathbf{A}$ is formed by using the even keys from the output of __Sorted_Combo()__.  $\\mathbf{B}$ is formed using the odd keys since the odd combinations of $q$'s will always contain the previously mentioned $\\sqrt{(Z^2-1)(\\Omega_2^2-\\Omega_1^2Z^2)}$ factor.  \n",
    "  \n",
    "$^*$All indices are starting from zero to match with python's convention  "
   ]
  },
  {
   "cell_type": "code",
   "execution_count": 59,
   "metadata": {
    "collapsed": false,
    "deletable": true,
    "editable": true
   },
   "outputs": [],
   "source": [
    "def prm(order):\n",
    "    \"\"\"\n",
    "    Generate the permutations of the coefficients of  \n",
    "    (p_0+q_0+r_0)(p_1+q_1+r_1)...(p_(order-1)+q_(order-1)+r_(order-1))\n",
    "    \n",
    "    This is useful in formulating eqn(8) from the Wenzel paper:\n",
    "    \"Synthesis of Combline and Capacitively Loaded Inter... of Arbitrary Bandwidth\"         \n",
    "    \"\"\"\n",
    "    if order==1:\n",
    "        return ['p0','q0','r0']\n",
    "    temp = []\n",
    "    perm_list = prm(order-1)\n",
    "    for item in perm_list:\n",
    "        temp.append('p' + str(order-1) + item)\n",
    "        temp.append('q' + str(order-1) + item)\n",
    "        temp.append('r' + str(order-1) + item)        \n",
    "    return temp\n",
    "\n",
    "\n",
    "def form_poly(order, p, q, r, combo, omega1, omega2):\n",
    "    \"\"\"\n",
    "    This function takes a a string in combo and forms a polynomial\n",
    "    \n",
    "    order: order of the filter\n",
    "    p, q, r: numpy arrays of the coefficients p, q, and r\n",
    "    combo: combination of p, q, and r.  ie 'p0q1r2' or order=3\n",
    "    omega1, omega2: upper and lower passband frequencies\n",
    "    \n",
    "    This is useful in formulating eqn(8) from the Wenzel paper:\n",
    "    \"Synthesis of Combline and Capacitively Loaded Inter... of Arbitrary Bandwidth\"         \n",
    "    \"\"\"\n",
    "    #form the polynomial of z^2\n",
    "    p_poly = np.array([1, 0, 0])\n",
    "    #form the polynomial of (Z^2-1)(omega2^2-omega1^2Z^2)\n",
    "    q_poly = np.polymul([1, 0, -1], [-1*omega1**2, 0, omega2**2])\n",
    "    \n",
    "    #initialize coefficient and order of p's and q's\n",
    "    coef = 1   \n",
    "    p_order = 0\n",
    "    q_order = 0\n",
    "    \n",
    "    #order count and coefficient multiplication\n",
    "    for i in range(0, 2*order, 2):\n",
    "        if combo[i]=='p':\n",
    "            p_order += 1\n",
    "            coef *= p[int(combo[i+1])]\n",
    "        if combo[i]=='q':\n",
    "            q_order += 1\n",
    "            coef *= q[int(combo[i+1])]\n",
    "        if combo[i]=='r':\n",
    "            coef *= r[int(combo[i+1])]\n",
    "                        \n",
    "    q_order = q_order//2 \n",
    "    #q_order is halved each q corresponds to sqrt of of q_poly\n",
    "    #integer division will result in correct order if q_order is odd\n",
    "\n",
    "    #form the polynomial of the combination of combo     \n",
    "    polynom = np.array([coef])\n",
    "    for i in range(p_order):\n",
    "        polynom = np.polymul(polynom, p_poly)\n",
    "    for i in range(q_order):\n",
    "        polynom = np.polymul(polynom, q_poly)\n",
    "                      \n",
    "    return polynom\n",
    "\n",
    "\n",
    "def Sorted_Combo(N_Order):\n",
    "    '''\n",
    "    form the following list of lists:\n",
    "    [ [ combos with no q ], [ combos with 1 q's ], \n",
    "    [ combos with 2 q's ], ...,[q(N_Order-1)q(N_Order-2)..q0] ]\n",
    "    '''            \n",
    "    #Helper func to generate polynomials A and B, EQN(8)\n",
    "    combo_list = prm(N_Order)\n",
    "    \n",
    "    #Generate lists in a list where the indices of \n",
    "    #the lists correspond to the order of q's\n",
    "    sorted_combo = {}\n",
    "    for key in range(N_Order+1):\n",
    "        sorted_combo[key] = []\n",
    "\n",
    "    #counts the q's in each permutation and places \n",
    "    #each permutation into the corresponding lists  \n",
    "    for combo in combo_list:\n",
    "        count=0\n",
    "        for letter in range(0, len(combo), 2):\n",
    "            if combo[letter]=='q':\n",
    "                count += 1\n",
    "        sorted_combo[count].append(combo)\n",
    "    \n",
    "    return sorted_combo\n",
    "    \n",
    "\n",
    "def ApBsqrt_fact(N_Order, e, p, q, r, omega1, omega2, sorted_combo):     \n",
    "    #EQN(8): Extract A and B from A+Bsqrt((Z^2-1)(omega^2-(omega1^2)(Z^2)))\n",
    "    #Form the polynomial A\n",
    "    A = np.array([])\n",
    "    #Using only even order of q's\n",
    "    for q_ord in range(0, len(sorted_combo), 2):\n",
    "        for combination in sorted_combo[q_ord]:\n",
    "            A = np.polyadd(A, form_poly(N_Order, p, q, r, combination, omega1, omega2))\n",
    "    A = A*np.sqrt(1+e**2) \n",
    "\n",
    "    #Form the polynomial B\n",
    "    B = np.array([])\n",
    "    #Using only odd order of q's\n",
    "    for q_ord in range(1, len(sorted_combo), 2):\n",
    "        for combination in sorted_combo[q_ord]:\n",
    "            B = np.polyadd(B, form_poly(N_Order, p, q, r, combination, omega1, omega2))\n",
    "    B = B*np.sqrt(1+e**2)\n",
    "    \n",
    "    return A, B"
   ]
  },
  {
   "cell_type": "code",
   "execution_count": 60,
   "metadata": {
    "collapsed": true,
    "deletable": true,
    "editable": true
   },
   "outputs": [],
   "source": [
    "#EQN(8): Extract A and B from A+Bsqrt((Z^2-1)(omega^2-(omega1^2)(Z^2)))      \n",
    "sorted_combo = Sorted_Combo(N_Order)\n",
    "A, B = ApBsqrt_fact(N_Order, e, p, q, r, omega1, omega2, sorted_combo)\n",
    "#print(A)\n",
    "#print(B)"
   ]
  },
  {
   "cell_type": "markdown",
   "metadata": {
    "deletable": true,
    "editable": true
   },
   "source": [
    "With polynomials $\\mathbf{A}$, $\\mathbf{B}$, and $\\mathbf{E}$, form the following polynomial:  \n",
    "\n",
    "$\\mathbf{Y}(Z^2)=\\displaystyle\\frac{\\mathbf{A}+{\\epsilon}\\mathbf{E}}{\\mathbf{B}(\\Omega_2^2-\\Omega_1^2Z^2)}$ $\\;\\;\\;\\;$See equation(9)  "
   ]
  },
  {
   "cell_type": "code",
   "execution_count": 61,
   "metadata": {
    "collapsed": false,
    "deletable": true,
    "editable": true
   },
   "outputs": [],
   "source": [
    "def YofZ2(A, E, B, e, omega1, omega2):\n",
    "    #EQN(9):Form polynomial Y(Z^2)'s numerator Yn=A+eE \n",
    "    #Form Y(Z^2)'s denominator Yd=B(omega2^2-omega1^2Z^2)\n",
    "    YZn = np.polyadd(A, e*E)\n",
    "    YZd = np.polymul(B, [-1*(omega1**2), 0, omega2**2])\n",
    "\n",
    "    return YZn, YZd"
   ]
  },
  {
   "cell_type": "code",
   "execution_count": 62,
   "metadata": {
    "collapsed": true,
    "deletable": true,
    "editable": true
   },
   "outputs": [],
   "source": [
    "#EQN(9):Form polynomial Y(Z^2)'s numerator Yn=A+eE \n",
    "YZn, YZd = YofZ2(A, E, B, e, omega1, omega2)"
   ]
  },
  {
   "cell_type": "markdown",
   "metadata": {
    "deletable": true,
    "editable": true
   },
   "source": [
    "Convert from Z to S domain by the following substitution:  \n",
    "\n",
    "$Z^2=\\displaystyle\\frac{S^2+\\Omega_2^2}{S^2+\\Omega_1^2}$ $\\;\\;\\;\\;$See equation(2)    \n",
    "  \n",
    "Find $\\mathbf{Y}(S)$ using the following relationship:  \n",
    "\n",
    "$\\displaystyle\\frac{\\mathbf{Y}(S)}{S}=\\mathbf{Y}(Z^2)$ $\\;\\;\\;\\;$See equation(9) "
   ]
  },
  {
   "cell_type": "code",
   "execution_count": 63,
   "metadata": {
    "collapsed": false,
    "deletable": true,
    "editable": true
   },
   "outputs": [],
   "source": [
    "def YofS(YZn, YZd, omega1, omega2):\n",
    "    #Convert Y(Z^2) to Y(S)/S by using EQN(2)\n",
    "    Z2n = np.array([1, 0, omega2**2])\n",
    "    Z2d = np.array([1, 0, omega1**2])\n",
    "\n",
    "    #Numerator and denominator of Y(Z^2) will have the same even order\n",
    "    YSn = np.array([])\n",
    "    YSd = np.array([])\n",
    "    \n",
    "    N_Order = len(YZd)//2\n",
    "    for i in range(N_Order + 1):\n",
    "        temp = np.polymul(np_pp.polypow(Z2n, N_Order - i), np_pp.polypow(Z2d, i)) \n",
    "        YSn = np.polyadd(YSn, YZn[2*i]*temp)   \n",
    "        YSd = np.polyadd(YSd, YZd[2*i]*temp)\n",
    "\n",
    "    #Ysd constant term is always zero and therefore..\n",
    "    YSd = YSd[:-1]\n",
    "    \n",
    "    return YSn, YSd"
   ]
  },
  {
   "cell_type": "code",
   "execution_count": 64,
   "metadata": {
    "collapsed": true,
    "deletable": true,
    "editable": true
   },
   "outputs": [],
   "source": [
    "#Convert Y(Z^2) to Y(S)/S by using EQN(2)\n",
    "YSn, YSd = YofS(YZn, YZd, omega1, omega2)"
   ]
  },
  {
   "cell_type": "markdown",
   "metadata": {
    "deletable": true,
    "editable": true
   },
   "source": [
    "Once $\\mathbf{Y}(S)$ is obtained, the filter elements can then be extracted from $\\mathbf{Y}(S)$.  \n",
    "  \n",
    "The element extraction process for a network with equal shunt capacitors is described in the paragraphs after equation(9).  It is further elaborated below:  \n",
    "\n",
    "__Step 1__. A shunt capacitor $C_1$ is extracted from $\\mathbf{Y}(S)$ leaving $\\mathbf{Y}'(S)$  \n",
    "  \n",
    "__Step 2__. Shunt inductor $L_T$ is extracted from $\\mathbf{Y}'(S)$ leaving $\\mathbf{Y}''(S)$  \n",
    "  \n",
    "__Step 3__. A series inductor $L_{C1}'$ is removed from $\\mathbf{Y}''(S)$ leaving $\\displaystyle\\frac{1}{\\mathbf{Y}'''(S)}$ or $\\mathbf{Z}'''(S)$  \n",
    "  \n",
    "__Step 4__. Shunt capcitor $C_2'$ is evaluated but not revomed from $\\mathbf{Z}'''(S)$  \n",
    "  \n",
    "__Step 5__. Find the redundant circuit elements $L_1$ and $L_{C1}$ (notice the $'$ has disappeared) where  \n",
    "  \n",
    "$\\;\\;\\;\\;\\;\\;\\;\\;\\;\\;\\;$ $L_1=\\displaystyle\\frac{L_T L_{C1}'}{L_{C1}'+\\left(1-\\sqrt{\\displaystyle\\frac{C_1}{C_2'}}\\right)L_{T}}$  \n",
    "\n",
    "$\\;\\;\\;\\;\\;\\;\\;\\;\\;\\;\\;$ $L_{C1}=L_{C1}'\\sqrt{\\displaystyle\\frac{C_2'}{C_1}}$  \n",
    "  \n",
    "  \n",
    "$\\;\\;\\;\\;\\;\\;\\;\\;\\;\\;\\;$ The factor $\\sqrt{\\displaystyle\\frac{C_1}{C_2'}}$ is to keep all shunt capacitors equal in the final nonredundant network  \n",
    "\n",
    "Steps 1-5 is implemented by the function __Comb_Non_Red_Extract()__  \n",
    "  \n",
    "__Step 6__. Go back to step 2 and perform the following steps starting from $\\mathbf{Y}'(S)$:  \n",
    "\n",
    "$\\;\\;\\;\\;\\;\\;\\;$__Step 2__. Shunt inductor $L_1$ is partially extracted from $\\mathbf{Y}'(S)$ leaving $\\mathbf{Y}''(S)$  \n",
    "$\\;\\;\\;\\;\\;\\;\\;$__Step 3__. A series inductor $L_{C1}$ is removed from $\\mathbf{Y}''(S)$ leaving $\\displaystyle\\frac{1}{\\mathbf{Y}'''(S)}$ or $\\mathbf{Z}'''(S)$  \n",
    "Step 6 is implemented by the function __Comb_Red_Extract()__  \n",
    "${\\mathbf{Y}'''(S)}$ becomes ${\\mathbf{Y}(S)}$ and steps 1-6 is repeated $N-1$ times until only a shunt inductor and a shunt capacitor is left  \n",
    "  \n",
    "__Step 7__. ${\\mathbf{Y}'''(S)}$ becomes ${\\mathbf{Y}(S)}$ and go back to step 1:  \n",
    "  \n",
    "$\\;\\;\\;\\;\\;\\;\\;$__Step 1__. Shunt inductor $L_N$ is extracted from $\\mathbf{Y}(S)$ leaving $\\mathbf{Y}'(S)$  \n",
    "$\\;\\;\\;\\;\\;\\;\\;$__Step 2__. Shunt capacitor $C_N$ is extracted from $\\mathbf{Y}'(S)$"
   ]
  },
  {
   "cell_type": "code",
   "execution_count": 65,
   "metadata": {
    "collapsed": false,
    "deletable": true,
    "editable": true
   },
   "outputs": [],
   "source": [
    "def Comb_Non_Red_Extract(Yn, Yd, digs = 12):\n",
    "    #Step 1: A shunt capacitor C1 is totally removed from Y(s) leaving Y'(s)\n",
    "    #Yn/Yd\n",
    "    Yn_div_Yd = np.polydiv(Yn, Yd)\n",
    "    C1 = Yn_div_Yd[0][0]\n",
    "    #Remainder function\n",
    "    Yn_p = np.trim_zeros(np.round(np.copy(Yn_div_Yd[1]), digs), 'f')\n",
    "    Yd_p = np.copy(Yd)\n",
    "    \n",
    "    #Step 2: The shunt inductor LT is totally removed from Y'(s) leaving Y''(s)\n",
    "    #See Saal & Ulbrich extraction Figure 4\n",
    "    #LT = 1/(sY'(s)), s->0\n",
    "    LT = np.polyval(Yd_p[:-1], 0)/np.polyval(Yn_p, 0)\n",
    "    #Remainder function\n",
    "    Yn_pp = np.polysub(Yn_p, 1/LT*Yd_p[:-1])\n",
    "    Yd_pp = np.copy(Yd_p)\n",
    "    \n",
    "    #Step 3: A series inductor LC1' is totally removed from Z''(S) leaving Z'''(S)\n",
    "    Zn_pp = np.copy(Yd_pp)\n",
    "    Zd_pp = np.trim_zeros(np.round(np.copy(Yn_pp), digs), 'f')\n",
    "    LC1_p = Zn_pp[0]/Zd_pp[0]\n",
    "    Zn_ppp = np.polysub(Zn_pp, np.polymul(Zd_pp, [LC1_p, 0]))\n",
    "    Zd_ppp = np.copy(Zd_pp)\n",
    "    \n",
    "    #Step 4: The next shunt capacitor C2' is evaluated from Y'''(S)\n",
    "    Yn_pppp = np.copy(Zd_ppp)\n",
    "    Yd_pppp = np.trim_zeros(np.round(np.copy(Zn_ppp), digs), 'f')\n",
    "    Yn_pppp_div_Yd_pppp = np.polydiv(Yn_pppp, Yd_pppp)\n",
    "    C2_p = Yn_pppp_div_Yd_pppp[0][0]\n",
    "\n",
    "    #Step 5: The redundant network element values are then C1, L1, LC1, where   \n",
    "    L1 = LT*LC1_p/(LC1_p+(1-np.sqrt(C1/C2_p))*LT)\n",
    "    LC1 = LC1_p*np.sqrt(C2_p/C1)\n",
    "    #n = np.sqrt(C1/C2_p)\n",
    "    \n",
    "    return C1, L1, LC1, Yn_p, Yd_p\n",
    "\n",
    "    \n",
    "def Comb_Red_Extract(L1, LC1, Yn_p, Yd_p, digs = 12):\n",
    "    #Step 6:\n",
    "    #Repeat step 2: A shunt inductor L1 is partially removed from Y'(S) leaving Y''(S)\n",
    "    #Remainder function. See Saal & Ulbrich extraction Figure 4.\n",
    "    Yn_pp = np.polysub(Yn_p, 1/L1*Yd_p[:-1])\n",
    "    Yd_pp = np.copy(Yd_p)\n",
    "    #print('Red ',Yn_pp, Yd_pp)    \n",
    "    \n",
    "    #Repeat step 3: A series inductor LC1 is partially removed from Z''(S) leaving Z'''(S)\n",
    "    Zn_pp = np.copy(Yd_pp)\n",
    "    Zd_pp = np.trim_zeros(np.round(np.copy(Yn_pp), digs), 'f')\n",
    "    #Remainder function.\n",
    "    Zn_ppp = np.polysub(Zn_pp, np.polymul(Zd_pp, [LC1, 0]))\n",
    "    Zd_ppp = np.copy(Zd_pp)\n",
    "    #Convert to Y'''(S)\n",
    "    Yn_ppp = np.copy(Zd_ppp)\n",
    "    Yd_ppp = np.trim_zeros(np.round(np.copy(Zn_ppp), digs-2), 'f')\n",
    "    #print('Red ',Yn_ppp, Yd_ppp) \n",
    "    \n",
    "    return Yn_ppp, Yd_ppp\n",
    "    \n",
    "\n",
    "def Comb_CL_Extract(Yn, Yd, digs = 12):\n",
    "    #Step 7:\n",
    "    #Repeat step 1: A shunt capacitor C1 is totally removed from Y(s) leaving Y'(s)\n",
    "    #Yn/Yd\n",
    "    Yn_div_Yd = np.polydiv(Yn, Yd)\n",
    "    C1 = Yn_div_Yd[0][0]\n",
    "    #Remainder function\n",
    "    Yn_p = np.trim_zeros(np.round(np.copy(Yn_div_Yd[1]), digs), 'f')\n",
    "    Yd_p = np.copy(Yd)\n",
    "    \n",
    "    #Repeat step 2: The shunt inductor LT is totally removed from Y'(s) leaving Y''(s)\n",
    "    #See Saal & Ulbrich extraction Figure 4\n",
    "    #LT = 1/(sY'(s)), s->0\n",
    "    LT = np.polyval(Yd_p[:-1], 0)/np.polyval(Yn_p, 0)\n",
    "    #Remainder function\n",
    "    Yn_pp = np.polysub(Yn_p, 1/LT*Yd_p[:-1])\n",
    "    Yd_pp = np.copy(Yd_p)\n",
    "    \n",
    "    return C1, LT, Yn_pp, Yd_pp              \n",
    "def Comb_Element_Extract(Yn, Yd, N_Order):                \n",
    "    #Create empty component arrays\n",
    "    cap_array = np.array([])\n",
    "    ind_array = np.array([])\n",
    "\n",
    "    #Extract components\n",
    "    for ext in range(N_Order - 1):\n",
    "        C, L, LC, Yn, Yd = Comb_Non_Red_Extract(Yn, Yd)\n",
    "        \n",
    "        #Update element array\n",
    "        cap_array = np.append(cap_array, [C, np.inf])\n",
    "        ind_array = np.append(ind_array, [L, LC])\n",
    "    \n",
    "        Yn, Yd = Comb_Red_Extract(L, LC, Yn, Yd) \n",
    "\n",
    "    #Extract remaining shunt L||C resonator    \n",
    "    C, L, _, _ = Comb_CL_Extract(Yn, Yd)  \n",
    "\n",
    "    #Update element array\n",
    "    cap_array = np.append(cap_array, C)\n",
    "    ind_array = np.append(ind_array, L)\n",
    "    \n",
    "    return cap_array, ind_array"
   ]
  },
  {
   "cell_type": "code",
   "execution_count": 66,
   "metadata": {
    "collapsed": false,
    "deletable": true,
    "editable": true
   },
   "outputs": [
    {
     "name": "stdout",
     "output_type": "stream",
     "text": [
      "N:            3\n",
      "Shunt Caps:   [4.2073454 4.2073454 4.2073454]\n",
      "Shunt Inds:   [1.30028089 3.0501708  1.30028089]\n",
      "Series Inds:  [1.99973049 1.99973049]\n"
     ]
    }
   ],
   "source": [
    "#Extract capacitors and inductors for equal capacitor values\n",
    "cap_array, ind_array = Comb_Element_Extract(YSn, YSd, N_Order)\n",
    "\n",
    "print('N:           ',N_Order)\n",
    "print('Shunt Caps:  ',cap_array[::2])\n",
    "print('Shunt Inds:  ',ind_array[::2])\n",
    "print('Series Inds: ',ind_array[1::2])"
   ]
  },
  {
   "cell_type": "markdown",
   "metadata": {},
   "source": [
    "___"
   ]
  },
  {
   "cell_type": "markdown",
   "metadata": {
    "deletable": true,
    "editable": true
   },
   "source": [
    "### Simulation of combline filter  \n",
    "  \n",
    "The extracted inductors and capacitor values are normalized to 1${\\Omega}$ termination.  Also, they represent impedances of short and open commensurate length transmission lines.  To simulate the filter response, the components are treated as lumped elements and lambdified to ${\\omega}$ with __SAPLad()__.  ${\\omega}$ is then mapped to the interested frequency with Richards' transform,  \n",
    "\n",
    "$S=j{\\omega}=j\\;tan\\displaystyle\\frac{\\pi f}{2f_o}$ $\\;\\;\\;$See equation(1)"
   ]
  },
  {
   "cell_type": "code",
   "execution_count": 67,
   "metadata": {
    "collapsed": false,
    "deletable": true,
    "editable": true
   },
   "outputs": [],
   "source": [
    "def SAPLad(E, First_Element = 'shnt'):\n",
    "    \n",
    "    \"\"\"\n",
    "    S-parameter All Pole Ladder(SAPLad)\n",
    "    Function for computing the S-Parameters of an all pole\n",
    "    doubly terminated ladder network\n",
    "    \n",
    "    E = an array of network elements including the terminations\n",
    "    First_Element = 'shnt'(shunt) or 'srs'(series)\n",
    "    \"\"\"\n",
    "    \n",
    "    w = sp.symbols('w')\n",
    "    Rs = E[0][0]\n",
    "    Rl = E[0][1]\n",
    "    orientation = First_Element\n",
    "    abcd = np.matrix([[1, 0], [0, 1]])\n",
    "        \n",
    "    for k in range(1, len(E)):\n",
    "        if orientation == 'shnt':\n",
    "            abcd = np.dot(abcd, np.matrix([[1, 0], [(1j*w*E[k][0]), 1]]))\n",
    "            abcd = np.dot(abcd, np.matrix([[1, 0], [(1j*w*E[k][1])**-1, 1]]))\n",
    "            orientation = 'srs'\n",
    "        else:\n",
    "            abcd = np.dot(abcd, np.matrix([[1, (1j*w*E[k][0])**-1], [0, 1]]))\n",
    "            abcd = np.dot(abcd, np.matrix([[1, (1j*w*E[k][1])], [0, 1]]))\n",
    "            orientation = 'shnt'\n",
    "\n",
    "    abcd = np.dot(abcd, np.matrix([[np.sqrt(Rl/Rs), 0], [0, 1/np.sqrt(Rl/Rs)]]))\n",
    "    \n",
    "    A = abcd[0,0]\n",
    "    B = abcd[0,1]\n",
    "    C = abcd[1,0]\n",
    "    D = abcd[1,1]\n",
    "    \n",
    "    denom = A+B/Rs+C*Rs+D\n",
    "    S11_sym = (A+B/Rs-C*Rs-D)/denom\n",
    "    S21_sym = 2/denom\n",
    "    S12_sym = 2**(A*D-B*C)/denom\n",
    "    S22_sym = (-A+B/Rs-C*Rs+D)/denom\n",
    "    \n",
    "    S11 = sp.lambdify(w, S11_sym, 'numpy')\n",
    "    S21 = sp.lambdify(w, S21_sym, 'numpy')\n",
    "    S12 = sp.lambdify(w, S12_sym, 'numpy')\n",
    "    S22 = sp.lambdify(w, S22_sym, 'numpy')\n",
    "    \n",
    "    return np.array([S11, S21, S12, S22])\n",
    "\n",
    "\n",
    "def Eval_Elements(cap_array, ind_array, w, terms=np.array([1,1])):\n",
    "    '''\n",
    "    Outputs the S21 and S11 in dB given abs(K(lambda))^2\n",
    "    FnF: numerator of abs(K(lambda))^2\n",
    "    PnF: denominator of abs(K(lambda))^2\n",
    "    w: vector of omega for evaluation (rad)\n",
    "    '''\n",
    "           \n",
    "    EE = np.array([[terms[0], terms[1]]])\n",
    "    for i in range(len(cap_array)):\n",
    "        EE = np.append(EE, [[cap_array[i], ind_array[i]]], axis = 0)\n",
    "    #print(EE)  \n",
    "\n",
    "    Sparm = SAPLad(EE)\n",
    "    S11 = Sparm[0]\n",
    "    S21 = Sparm[1]\n",
    "   \n",
    "    S11_dB = 20*np.log10(abs(S11(w)) + 1e-10) #1e-8 is added to prevent log(0) condition\n",
    "    S21_dB = 20*np.log10(abs(S21(w)) + 1e-10) #1e-8 is added to prevent log(0) condition\n",
    "    \n",
    "    return S11_dB, S21_dB\n",
    "    \n",
    "\n",
    "def Plot_S(S11_dB, S21_dB, f, fs, rej_dB, title = '???', fig = 1):\n",
    "    #test plot of transfer function \n",
    "    \n",
    "    #plt.clf()\n",
    "    #plt.close(fig)\n",
    "    plt.figure(fig, (10, 6))\n",
    "    plt.plot(f, S21_dB, label = '$|S_{21}|^2$')\n",
    "    plt.plot(f, S11_dB, label = '$|S_{11}|^2$')\n",
    "    plt.legend(loc = 'lower right', shadow=False, fontsize = 'large')\n",
    "    \n",
    "    #Y Limit\n",
    "    As = -1*rej_dB\n",
    "         \n",
    "    #Limit the lower y-axis to 20dB below the rejection rounded to x10. E.g. 43->50\n",
    "    plt.axis([0, f[-1], np.floor(As/10)*10-20, 0])\n",
    "    plt.xticks(np.arange(0, f[-1]+1, 0.5))\n",
    "    \n",
    "    plt.xlabel('freq(GHz)', fontsize = 'large')\n",
    "    plt.ylabel('(dB)', fontsize = 'large')\n",
    "    plt.title(title, fontsize = 'large')\n",
    "    \n",
    "    plt.grid(b = bool)\n",
    "    plt.show()"
   ]
  },
  {
   "cell_type": "code",
   "execution_count": 68,
   "metadata": {
    "collapsed": false,
    "deletable": true,
    "editable": true
   },
   "outputs": [
    {
     "data": {
      "image/png": "[encoded data removed]",
      "text/plain": [
       "<Figure size 720x432 with 1 Axes>"
      ]
     },
     "metadata": {},
     "output_type": "display_data"
    }
   ],
   "source": [
    "#Simulation frequency range in Hz\n",
    "f = np.arange(20e6, 4e9, 20e6)\n",
    "\n",
    "#Applying Richard's Transform\n",
    "w = np.tan(np.pi/2*f/fo)\n",
    "\n",
    "#Simulate using ABCD \n",
    "S11_dB, S21_dB = Eval_Elements(cap_array, ind_array, w)\n",
    "\n",
    "#Normalize frequency to GHz and plot\n",
    "fplot = f/1e9\n",
    "Plot_S(S11_dB, S21_dB, fplot, fH/1e9, AH, 'Combline Example')"
   ]
  },
  {
   "cell_type": "markdown",
   "metadata": {
    "deletable": true,
    "editable": true
   },
   "source": [
    "### to be continued maybe"
   ]
  },
  {
   "cell_type": "code",
   "execution_count": null,
   "metadata": {
    "collapsed": true,
    "deletable": true,
    "editable": true
   },
   "outputs": [],
   "source": []
  }
 ],
 "metadata": {
  "kernelspec": {
   "display_name": "Python 3",
   "language": "python",
   "name": "python3"
  },
  "language_info": {
   "codemirror_mode": {
    "name": "ipython",
    "version": 3
   },
   "file_extension": ".py",
   "mimetype": "text/x-python",
   "name": "python",
   "nbconvert_exporter": "python",
   "pygments_lexer": "ipython3",
   "version": "3.5.2"
  }
 },
 "nbformat": 4,
 "nbformat_minor": 2
}
